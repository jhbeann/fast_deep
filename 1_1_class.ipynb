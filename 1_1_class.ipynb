{
  "nbformat": 4,
  "nbformat_minor": 0,
  "metadata": {
    "colab": {
      "provenance": [],
      "authorship_tag": "ABX9TyPluAFRxejGSpTaao93XvtP",
      "include_colab_link": true
    },
    "kernelspec": {
      "name": "python3",
      "display_name": "Python 3"
    },
    "language_info": {
      "name": "python"
    }
  },
  "cells": [
    {
      "cell_type": "markdown",
      "metadata": {
        "id": "view-in-github",
        "colab_type": "text"
      },
      "source": [
        "<a href=\"https://colab.research.google.com/github/jhbeann/fast_deep/blob/main/1_1_class.ipynb\" target=\"_parent\"><img src=\"https://colab.research.google.com/assets/colab-badge.svg\" alt=\"Open In Colab\"/></a>"
      ]
    },
    {
      "cell_type": "markdown",
      "source": [
        "# 1. Function"
      ],
      "metadata": {
        "id": "qfemQK83INy6"
      }
    },
    {
      "cell_type": "code",
      "execution_count": null,
      "metadata": {
        "id": "z3pczfSqILMp"
      },
      "outputs": [],
      "source": [
        "stationfares = [\n",
        "    {\"station\": \"청량리\", \"fare\": 1500},\n",
        "    {\"station\": \"성북\", \"fare\": 1800},\n",
        "    {\"station\": \"의정부\", \"fare\": 2000},\n",
        "    {\"station\": \"소요산\", \"fare\": 2500}\n",
        "    ]"
      ]
    },
    {
      "cell_type": "code",
      "source": [
        "stations =[]\n",
        "fares = []\n",
        "for stationfare in stationfares:\n",
        "  stations.append(stationfare[\"station\"])\n",
        "  fares.append(stationfare[\"fare\"])\n",
        "print(stations)\n",
        "print(fares)\n"
      ],
      "metadata": {
        "colab": {
          "base_uri": "https://localhost:8080/"
        },
        "id": "mm2yuBhCISD0",
        "outputId": "523e9efb-f509-4e89-ba7f-0b2938f89f9a"
      },
      "execution_count": null,
      "outputs": [
        {
          "output_type": "stream",
          "name": "stdout",
          "text": [
            "['청량리', '성북', '의정부', '소요산']\n",
            "[1500, 1800, 2000, 2500]\n"
          ]
        }
      ]
    },
    {
      "cell_type": "code",
      "source": [
        "len(stationfares)"
      ],
      "metadata": {
        "colab": {
          "base_uri": "https://localhost:8080/"
        },
        "id": "wiLNHEaoK3L7",
        "outputId": "6d52346f-7a07-4545-b510-f90f490b64ff"
      },
      "execution_count": null,
      "outputs": [
        {
          "output_type": "execute_result",
          "data": {
            "text/plain": [
              "4"
            ]
          },
          "metadata": {},
          "execution_count": 4
        }
      ]
    },
    {
      "cell_type": "code",
      "source": [
        "max(fares)"
      ],
      "metadata": {
        "colab": {
          "base_uri": "https://localhost:8080/"
        },
        "id": "9qMYCzYPK6P8",
        "outputId": "2c3b4f24-04a6-4e42-b581-3012fd22d47d"
      },
      "execution_count": null,
      "outputs": [
        {
          "output_type": "execute_result",
          "data": {
            "text/plain": [
              "2500"
            ]
          },
          "metadata": {},
          "execution_count": 5
        }
      ]
    },
    {
      "cell_type": "code",
      "source": [
        "min(fares)"
      ],
      "metadata": {
        "colab": {
          "base_uri": "https://localhost:8080/"
        },
        "id": "5hApqt8UK7Cv",
        "outputId": "e270c6ed-5b61-4323-964e-ee448ed18255"
      },
      "execution_count": null,
      "outputs": [
        {
          "output_type": "execute_result",
          "data": {
            "text/plain": [
              "1500"
            ]
          },
          "metadata": {},
          "execution_count": 6
        }
      ]
    },
    {
      "cell_type": "code",
      "source": [
        "sum(fares)"
      ],
      "metadata": {
        "colab": {
          "base_uri": "https://localhost:8080/"
        },
        "id": "MAG9KzUiK76V",
        "outputId": "0dc44cc0-933d-4b48-bed4-e4401813f4f7"
      },
      "execution_count": null,
      "outputs": [
        {
          "output_type": "execute_result",
          "data": {
            "text/plain": [
              "7800"
            ]
          },
          "metadata": {},
          "execution_count": 7
        }
      ]
    },
    {
      "cell_type": "code",
      "source": [
        "for idx,station in enumerate(stations):\n",
        "  print(idx,station)"
      ],
      "metadata": {
        "colab": {
          "base_uri": "https://localhost:8080/"
        },
        "id": "DD4QZn1HK8u-",
        "outputId": "b154a439-566a-4383-c9af-67f03e19546e"
      },
      "execution_count": null,
      "outputs": [
        {
          "output_type": "stream",
          "name": "stdout",
          "text": [
            "0 청량리\n",
            "1 성북\n",
            "2 의정부\n",
            "3 소요산\n"
          ]
        }
      ]
    },
    {
      "cell_type": "code",
      "source": [
        "sum = lambda a,b : a +b\n",
        "sum(2,3)"
      ],
      "metadata": {
        "colab": {
          "base_uri": "https://localhost:8080/"
        },
        "id": "hsHJ9hryLB_n",
        "outputId": "15d10379-0131-40a6-ea24-e893cadeab25"
      },
      "execution_count": null,
      "outputs": [
        {
          "output_type": "execute_result",
          "data": {
            "text/plain": [
              "5"
            ]
          },
          "metadata": {},
          "execution_count": 9
        }
      ]
    },
    {
      "cell_type": "code",
      "source": [
        "def getFare(station):\n",
        "  for stationfare in stationfares:\n",
        "    if stationfare['station'] ==station:\n",
        "      return stationfare['fare']\n",
        "fare = getFare(\"청량리\")\n",
        "print(fare)"
      ],
      "metadata": {
        "colab": {
          "base_uri": "https://localhost:8080/"
        },
        "id": "2Gqm0V8oLHQ7",
        "outputId": "0c26f8a6-1827-4d87-a83f-11c056d78b97"
      },
      "execution_count": null,
      "outputs": [
        {
          "output_type": "stream",
          "name": "stdout",
          "text": [
            "1500\n"
          ]
        }
      ]
    },
    {
      "cell_type": "code",
      "source": [
        "for station in stations:\n",
        "  print(station, getFare(station))"
      ],
      "metadata": {
        "colab": {
          "base_uri": "https://localhost:8080/"
        },
        "id": "aoeEYRpVLYHW",
        "outputId": "a1236f3a-f9d4-4044-c76e-9b1a6e21f8a0"
      },
      "execution_count": null,
      "outputs": [
        {
          "output_type": "stream",
          "name": "stdout",
          "text": [
            "청량리 1500\n",
            "성북 1800\n",
            "의정부 2000\n",
            "소요산 2500\n"
          ]
        }
      ]
    },
    {
      "cell_type": "markdown",
      "source": [
        "# 2. Class\n",
        "- class: 데이터 묶음"
      ],
      "metadata": {
        "id": "skNPxP16Lmt3"
      }
    },
    {
      "cell_type": "code",
      "source": [
        "class Comments:\n",
        "    title               = \"#### %s 승차권 판매기입니다. ####\"\n",
        "    product_description = \"%s:%s(%s원)\"\n",
        "    insert_fare         = \"\\n요금을 넣어 주세요. : \"\n",
        "    insufficient_fare   = \"%s 요금이 부족합니다. 거스름돈은 %s원 입니다.\"\n",
        "    select_station      = \"원하시는 역번호를 선택하세요.\"\n",
        "    select_error        = \"잘못 입력하셨습니다.\"\n",
        "    finish_sale         = \"선택하신 %s 입니다. 거스름돈은 %s원 입니다.\\n감사합니다.\"\n",
        "    terminate_sale      = \"승차권 판매를 종료합니다.\""
      ],
      "metadata": {
        "id": "DwgVW2L8Ll7-"
      },
      "execution_count": null,
      "outputs": []
    },
    {
      "cell_type": "code",
      "source": [
        "class Products:\n",
        "  productNames =[]\n",
        "  productValues =[]"
      ],
      "metadata": {
        "id": "duuXC5XtMGJ6"
      },
      "execution_count": null,
      "outputs": []
    },
    {
      "cell_type": "code",
      "source": [
        "class SubwayTicket(Products):\n",
        "  _data = stationfares\n",
        "  _name = \"지하철\"\n",
        "  _status = True\n",
        "\n",
        "  # 생성자 초기 함수\n",
        "  def __init__(self):\n",
        "    print(Comments.title %self._name)\n",
        "\n",
        "  # 값 비워서 초기화 하고 시작\n",
        "  def set_products(self):\n",
        "    Products.productNames = []\n",
        "    Products.productValues = []\n",
        "    for stationfare in self._data:\n",
        "      Products.productNames.append(stationfare[\"station\"])\n",
        "      Products.productValues.append(stationfare[\"fare\"])\n",
        "  # 메인\n",
        "  def run(self):\n",
        "    self.set_products()\n",
        "    while self._status: # true일때\n",
        "      try:\n",
        "        inputMoney = int(input(Comments.insert_fare))\n",
        "      except ValueError:\n",
        "        print(Comments.select_error)\n",
        "      else:\n",
        "        self.selectStation(inputMoney)\n",
        "\n",
        "  def selectStation(self, money):\n",
        "    print(Comments.select_station)\n",
        "    for idx, name in enumerate(Products.productNames):\n",
        "      fare = Products.productValues[idx]\n",
        "      print(Comments.product_description %(str(idx), name, fare ))\n",
        "    inputStation = int(input(Comments.select_station))\n",
        "    self.payment(money, inputStation)\n",
        "\n",
        "  def payment(self, money, idx):\n",
        "    name = Products.productNames[idx]\n",
        "    fare = Products.productValues[idx]\n",
        "    if money >= fare:\n",
        "      balance = money - fare\n",
        "      print(Comments.finish_sale %(name,str(balance)))\n",
        "    else:\n",
        "      print(Comments.insufficient_fare %(name,fare))"
      ],
      "metadata": {
        "id": "zm5C0Ui1MPUO"
      },
      "execution_count": null,
      "outputs": []
    },
    {
      "cell_type": "code",
      "source": [
        "tm = SubwayTicket()\n",
        "\n",
        "try:\n",
        "  tm.run()\n",
        "except KeyboardInterrupt:\n",
        "  tm._status = False\n",
        "  print(Comments.terminate_sale)"
      ],
      "metadata": {
        "colab": {
          "base_uri": "https://localhost:8080/"
        },
        "id": "aSq6V2Hc1X0k",
        "outputId": "8a9fdb06-0492-4ea7-ac4a-243da0fa39f7"
      },
      "execution_count": null,
      "outputs": [
        {
          "output_type": "stream",
          "name": "stdout",
          "text": [
            "#### 지하철 승차권 판매기입니다. ####\n",
            "\n",
            "요금을 넣어 주세요. : 2000\n",
            "원하시는 역번호를 선택하세요.\n",
            "0:청량리(1500원)\n",
            "1:성북(1800원)\n",
            "2:의정부(2000원)\n",
            "3:소요산(2500원)\n",
            "원하시는 역번호를 선택하세요.1\n",
            "선택하신 성북 입니다. 거스름돈은 200원 입니다.\n",
            "감사합니다.\n",
            "승차권 판매를 종료합니다.\n"
          ]
        }
      ]
    },
    {
      "cell_type": "markdown",
      "source": [],
      "metadata": {
        "id": "CUKWICUmMF2F"
      }
    }
  ]
}