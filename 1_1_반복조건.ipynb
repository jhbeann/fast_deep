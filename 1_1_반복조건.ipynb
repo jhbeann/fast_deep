{
  "nbformat": 4,
  "nbformat_minor": 0,
  "metadata": {
    "colab": {
      "provenance": [],
      "authorship_tag": "ABX9TyNKbSkomPwCpZstPeWkcNOl",
      "include_colab_link": true
    },
    "kernelspec": {
      "name": "python3",
      "display_name": "Python 3"
    },
    "language_info": {
      "name": "python"
    }
  },
  "cells": [
    {
      "cell_type": "markdown",
      "metadata": {
        "id": "view-in-github",
        "colab_type": "text"
      },
      "source": [
        "<a href=\"https://colab.research.google.com/github/jhbeann/fast_deep/blob/main/1_1_%EB%B0%98%EB%B3%B5%EC%A1%B0%EA%B1%B4.ipynb\" target=\"_parent\"><img src=\"https://colab.research.google.com/assets/colab-badge.svg\" alt=\"Open In Colab\"/></a>"
      ]
    },
    {
      "cell_type": "markdown",
      "source": [
        "# 1. Condition"
      ],
      "metadata": {
        "id": "OqFotRmQJvLE"
      }
    },
    {
      "cell_type": "code",
      "source": [
        "name = input('What is your name :')"
      ],
      "metadata": {
        "id": "IWPiKLiTJ1cF"
      },
      "execution_count": null,
      "outputs": []
    },
    {
      "cell_type": "code",
      "source": [
        "if name == 'bird':\n",
        "  print(\"I could fly to you\")\n",
        "else:\n",
        "    print(\"I could walk to you\")"
      ],
      "metadata": {
        "id": "GNlyf_yRJ7-z"
      },
      "execution_count": null,
      "outputs": []
    },
    {
      "cell_type": "code",
      "source": [
        "if name == 'bird':\n",
        "    print(\"I could fly to you\")\n",
        "elif name == 'pig':\n",
        "    print(\"I could walk to you\")\n",
        "else:\n",
        "    print(\"I could stay to you\")"
      ],
      "metadata": {
        "id": "y7D8SFHiJ_Xk"
      },
      "execution_count": null,
      "outputs": []
    },
    {
      "cell_type": "markdown",
      "source": [
        "# 2. Loop"
      ],
      "metadata": {
        "id": "LczNICkYKbrk"
      }
    },
    {
      "cell_type": "code",
      "source": [
        "num = int(input('Multiplication table of: '))"
      ],
      "metadata": {
        "id": "cM5EO_hGKT0O"
      },
      "execution_count": null,
      "outputs": []
    },
    {
      "cell_type": "code",
      "source": [
        "for i in range(1,10):\n",
        "  print(num, 'x', i, '=', num*i)"
      ],
      "metadata": {
        "id": "R5hZ0Mt5Ko_j"
      },
      "execution_count": null,
      "outputs": []
    },
    {
      "cell_type": "code",
      "source": [
        "for i in range(2,10):\n",
        "  for j in range(1,10):\n",
        "    print(\"%2d X %2d = %2d\" %(i,j,i*j))\n",
        "  print(\"------------------\")\n",
        "\n",
        "# %2d : 두 자리 수"
      ],
      "metadata": {
        "id": "b6gCy5-SKzaS"
      },
      "execution_count": null,
      "outputs": []
    },
    {
      "cell_type": "code",
      "source": [
        "num = int(input('Multiplication tabel of :'))\n",
        "i = 1\n",
        "while i < 10:\n",
        "  print(num,'X',i,'=',num*i)\n",
        "  i += 1"
      ],
      "metadata": {
        "id": "CSS9BS8QLau2"
      },
      "execution_count": null,
      "outputs": []
    },
    {
      "cell_type": "code",
      "source": [
        "i=2\n",
        "while i < 10:\n",
        "  j = 1\n",
        "  while j < 10:\n",
        "    print(i,'x',j,'=',i*j)\n",
        "    j+=1\n",
        "\n",
        "  print('---------------')\n",
        "  i+=1"
      ],
      "metadata": {
        "id": "K6Lww18rMHOz"
      },
      "execution_count": null,
      "outputs": []
    },
    {
      "cell_type": "code",
      "source": [
        "stationfares = [\n",
        "            {\"station\": \"청량리\", \"fare\": 1500},\n",
        "            {\"station\": \"성북\", \"fare\": 1800},\n",
        "            {\"station\": \"의정부\", \"fare\": 2000},\n",
        "            {\"station\": \"소요산\", \"fare\": 2500}\n",
        "        ]"
      ],
      "metadata": {
        "id": "yRhHr-v9MktY"
      },
      "execution_count": null,
      "outputs": []
    },
    {
      "cell_type": "code",
      "source": [
        "stations =[]\n",
        "fares = []\n",
        "for stationfare in stationfares:\n",
        "  stations.append(stationfare[\"station\"])\n",
        "  fares.append(stationfare[\"fare\"])\n",
        "print(stations)\n",
        "print(fares)"
      ],
      "metadata": {
        "colab": {
          "base_uri": "https://localhost:8080/"
        },
        "id": "6PWry3-JNYfv",
        "outputId": "03d95506-e945-490c-8d05-182401511708"
      },
      "execution_count": null,
      "outputs": [
        {
          "output_type": "stream",
          "name": "stdout",
          "text": [
            "['청량리', '성북', '의정부', '소요산']\n",
            "[1500, 1800, 2000, 2500]\n"
          ]
        }
      ]
    },
    {
      "cell_type": "code",
      "source": [],
      "metadata": {
        "id": "t2d8vzxkN8HP"
      },
      "execution_count": null,
      "outputs": []
    }
  ]
}